{
 "cells": [
  {
   "cell_type": "code",
   "execution_count": 1,
   "metadata": {},
   "outputs": [],
   "source": [
    "import numpy as np\n",
    "import pandas as pd\n",
    "import matplotlib.pyplot as plt\n",
    "import seaborn as sns\n",
    "import json, re"
   ]
  },
  {
   "cell_type": "code",
   "execution_count": 2,
   "metadata": {},
   "outputs": [],
   "source": [
    "sns.set_style(\"whitegrid\")\n",
    "#plt.style.use(\"seaborn\")\n",
    "params = {#\"ytick.color\" : \"black\",\n",
    "          #\"xtick.color\" : \"black\",\n",
    "          #\"axes.labelcolor\" : \"black\",\n",
    "          #\"axes.edgecolor\" : \"black\",\n",
    "          \"text.usetex\" : True,\n",
    "          \"font.family\" : \"serif\",\n",
    "          \"font.serif\" : [\"Computer Modern Serif\"]}\n",
    "plt.rcParams.update(params)"
   ]
  },
  {
   "cell_type": "markdown",
   "metadata": {},
   "source": [
    "## Dataset analysis"
   ]
  },
  {
   "cell_type": "code",
   "execution_count": 3,
   "metadata": {},
   "outputs": [],
   "source": [
    "def len_in_words(text: str) -> int:\n",
    "    return len(re.findall(r'\\b\\w+\\b', text))"
   ]
  },
  {
   "cell_type": "code",
   "execution_count": 4,
   "metadata": {},
   "outputs": [],
   "source": [
    "with open(\"../data/swisscom_dataset.json\", \"r\") as f:\n",
    "    swisscom_dataset = json.load(f)"
   ]
  },
  {
   "cell_type": "code",
   "execution_count": 5,
   "metadata": {},
   "outputs": [],
   "source": [
    "swisscom_dataset_df = pd.DataFrame({\n",
    "    \"text\" : [d[\"text\"] for d in swisscom_dataset],\n",
    "    \"Type\" : [d[\"metadata\"][\"type\"] for d in swisscom_dataset]\n",
    "})\n",
    "swisscom_dataset_df[\"word_count\"] = swisscom_dataset_df[\"text\"].apply(lambda t:len_in_words(t))"
   ]
  },
  {
   "cell_type": "code",
   "execution_count": 6,
   "metadata": {},
   "outputs": [
    {
     "data": {
      "text/plain": [
       "Type\n",
       "community     747\n",
       "webpage      2723\n",
       "dtype: int64"
      ]
     },
     "execution_count": 6,
     "metadata": {},
     "output_type": "execute_result"
    }
   ],
   "source": [
    "swisscom_dataset_df.groupby([\"Type\"]).size()"
   ]
  },
  {
   "cell_type": "code",
   "execution_count": 8,
   "metadata": {},
   "outputs": [
    {
     "data": {
      "image/png": "[encoded data removed]",
      "text/plain": [
       "<Figure size 640x480 with 1 Axes>"
      ]
     },
     "metadata": {},
     "output_type": "display_data"
    }
   ],
   "source": [
    "sns.histplot(data=swisscom_dataset_df, x=\"word_count\", hue=\"Type\")\n",
    "plt.xlabel(\"Snippet word count\")\n",
    "plt.savefig(\"../figures/dataset_distribution.svg\")"
   ]
  }
 ],
 "metadata": {
  "kernelspec": {
   "display_name": "ragas",
   "language": "python",
   "name": "python3"
  },
  "language_info": {
   "codemirror_mode": {
    "name": "ipython",
    "version": 3
   },
   "file_extension": ".py",
   "mimetype": "text/x-python",
   "name": "python",
   "nbconvert_exporter": "python",
   "pygments_lexer": "ipython3",
   "version": "3.10.13"
  }
 },
 "nbformat": 4,
 "nbformat_minor": 2
}
